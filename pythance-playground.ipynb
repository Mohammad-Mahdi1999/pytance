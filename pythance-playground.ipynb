{
 "cells": [
  {
   "cell_type": "code",
   "execution_count": 2,
   "id": "d1c4834c",
   "metadata": {},
   "outputs": [
    {
     "data": {
      "text/plain": [
       "12"
      ]
     },
     "execution_count": 2,
     "metadata": {},
     "output_type": "execute_result"
    }
   ],
   "source": [
    "12"
   ]
  },
  {
   "cell_type": "code",
   "execution_count": 4,
   "id": "8dde0695",
   "metadata": {},
   "outputs": [
    {
     "name": "stdout",
     "output_type": "stream",
     "text": [
      "2\n",
      "2\n"
     ]
    }
   ],
   "source": [
    "hi = 2\n",
    "print(hi)\n",
    "print(hi)"
   ]
  },
  {
   "cell_type": "code",
   "execution_count": 1,
   "id": "faf4216f",
   "metadata": {},
   "outputs": [
    {
     "ename": "SyntaxError",
     "evalue": "invalid non-printable character U+00A0 (1360931342.py, line 2)",
     "output_type": "error",
     "traceback": [
      "\u001b[1;36m  Cell \u001b[1;32mIn[1], line 2\u001b[1;36m\u001b[0m\n\u001b[1;33m    if len(str1) != len(str2):\u001b[0m\n\u001b[1;37m    ^\u001b[0m\n\u001b[1;31mSyntaxError\u001b[0m\u001b[1;31m:\u001b[0m invalid non-printable character U+00A0\n"
     ]
    }
   ],
   "source": [
    "def hamming_distance(str1, str2):\n",
    "    if len(str1) != len(str2):\n",
    "        raise ValueError(\"Strings must be of equal length\")\n",
    "    \n",
    "    distance = 0\n",
    "    for i in range(len(str1)):\n",
    "        if str1[i] != str2[i]:\n",
    "            distance += 1\n",
    "    \n",
    "    return distance\n",
    "\n",
    "# Example usage:\n",
    "string1 = \"karolin\"\n",
    "string2 = \"kathrin\"\n",
    "distance = hamming_distance(string1, string2)\n",
    "print(f\"The Hamming distance between '{string1}' and '{string2}' is {distance}.\")\n"
   ]
  },
  {
   "cell_type": "code",
   "execution_count": 2,
   "id": "0ece0116",
   "metadata": {},
   "outputs": [
    {
     "ename": "SyntaxError",
     "evalue": "invalid non-printable character U+00A0 (1609793846.py, line 2)",
     "output_type": "error",
     "traceback": [
      "\u001b[1;36m  Cell \u001b[1;32mIn[2], line 2\u001b[1;36m\u001b[0m\n\u001b[1;33m    len_str1 = len(str1)\u001b[0m\n\u001b[1;37m    ^\u001b[0m\n\u001b[1;31mSyntaxError\u001b[0m\u001b[1;31m:\u001b[0m invalid non-printable character U+00A0\n"
     ]
    }
   ],
   "source": [
    "def levenshtein_distance(str1, str2):\n",
    "    len_str1 = len(str1)\n",
    "    len_str2 = len(str2)\n",
    "\n",
    "    # Create a matrix to store the distances between substrings\n",
    "    matrix = [[0] * (len_str2 + 1) for _ in range(len_str1 + 1)]\n",
    "\n",
    "    # Initialize the matrix with values from 0 to len_str1 for the first column\n",
    "    for i in range(len_str1 + 1):\n",
    "        matrix[i][0] = i\n",
    "\n",
    "    # Initialize the matrix with values from 0 to len_str2 for the first row\n",
    "    for j in range(len_str2 + 1):\n",
    "        matrix[0][j] = j\n",
    "\n",
    "    # Fill the matrix using dynamic programming\n",
    "    for i in range(1, len_str1 + 1):\n",
    "        for j in range(1, len_str2 + 1):\n",
    "            cost = 0 if str1[i - 1] == str2[j - 1] else 1\n",
    "            matrix[i][j] = min(\n",
    "                matrix[i - 1][j] + 1,\n",
    "                matrix[i][j - 1] + 1,\n",
    "                matrix[i - 1][j - 1] + cost\n",
    "            )\n",
    "\n",
    "    return matrix[len_str1][len_str2]\n",
    "\n",
    "# Example usage:\n",
    "string1 = \"kitten\"\n",
    "string2 = \"sitting\"\n",
    "distance = levenshtein_distance(string1, string2)\n",
    "print(f\"The Levenshtein distance between '{string1}' and '{string2}' is {distance}.\")\n"
   ]
  },
  {
   "cell_type": "code",
   "execution_count": 3,
   "id": "169fa3d4",
   "metadata": {},
   "outputs": [
    {
     "ename": "SyntaxError",
     "evalue": "invalid non-printable character U+00A0 (3556547705.py, line 2)",
     "output_type": "error",
     "traceback": [
      "\u001b[1;36m  Cell \u001b[1;32mIn[3], line 2\u001b[1;36m\u001b[0m\n\u001b[1;33m    len_str1 = len(str1)\u001b[0m\n\u001b[1;37m    ^\u001b[0m\n\u001b[1;31mSyntaxError\u001b[0m\u001b[1;31m:\u001b[0m invalid non-printable character U+00A0\n"
     ]
    }
   ],
   "source": [
    "def damerau_levenshtein_distance(str1, str2):\n",
    "    len_str1 = len(str1)\n",
    "    len_str2 = len(str2)\n",
    "\n",
    "    # Create a matrix to store the distances between substrings\n",
    "    matrix = [[0] * (len_str2 + 1) for _ in range(len_str1 + 1)]\n",
    "\n",
    "    # Initialize the matrix with values from 0 to len_str1 for the first column\n",
    "    for i in range(len_str1 + 1):\n",
    "        matrix[i][0] = i\n",
    "\n",
    "    # Initialize the matrix with values from 0 to len_str2 for the first row\n",
    "    for j in range(len_str2 + 1):\n",
    "        matrix[0][j] = j\n",
    "\n",
    "    # Fill the matrix using dynamic programming\n",
    "    for i in range(1, len_str1 + 1):\n",
    "        for j in range(1, len_str2 + 1):\n",
    "            cost = 0 if str1[i - 1] == str2[j - 1] else 1\n"
   ]
  },
  {
   "cell_type": "code",
   "execution_count": 4,
   "id": "60669c15",
   "metadata": {},
   "outputs": [
    {
     "ename": "SyntaxError",
     "evalue": "invalid non-printable character U+00A0 (650520654.py, line 1)",
     "output_type": "error",
     "traceback": [
      "\u001b[1;36m  Cell \u001b[1;32mIn[4], line 1\u001b[1;36m\u001b[0m\n\u001b[1;33m    # Calculate transposition cost\u001b[0m\n\u001b[1;37m    ^\u001b[0m\n\u001b[1;31mSyntaxError\u001b[0m\u001b[1;31m:\u001b[0m invalid non-printable character U+00A0\n"
     ]
    }
   ],
   "source": [
    "            # Calculate transposition cost\n",
    "            transposition_cost = 1\n",
    "            if i > 1 and j > 1 and str1[i - 1] == str2[j - 2] and str1[i - 2] == str2[j - 1]:\n",
    "                transposition_cost = 0\n",
    "\n",
    "            matrix[i][j] = min(\n",
    "                matrix[i - 1][j] + 1,\n",
    "                matrix[i][j - 1] + 1,\n",
    "                matrix[i - 1][j - 1] + cost,\n",
    "                matrix[i - 2][j - 2] + transposition_cost  # Transposition\n",
    "            )\n",
    "\n",
    "    return matrix[len_str1][len_str2]\n",
    "\n",
    "# Example usage:\n",
    "string1 = \"sunday\"\n",
    "string2 = \"saturday\"\n",
    "distance = damerau_levenshtein_distance(string1, string2)\n",
    "print(f\"The Damerau-Levenshtein distance between '{string1}' and '{string2}' is {distance}.\")\n"
   ]
  },
  {
   "cell_type": "code",
   "execution_count": 5,
   "id": "48a4775f",
   "metadata": {},
   "outputs": [
    {
     "ename": "SyntaxError",
     "evalue": "invalid non-printable character U+00A0 (1782002732.py, line 2)",
     "output_type": "error",
     "traceback": [
      "\u001b[1;36m  Cell \u001b[1;32mIn[5], line 2\u001b[1;36m\u001b[0m\n\u001b[1;33m    # Length of strings\u001b[0m\n\u001b[1;37m    ^\u001b[0m\n\u001b[1;31mSyntaxError\u001b[0m\u001b[1;31m:\u001b[0m invalid non-printable character U+00A0\n"
     ]
    }
   ],
   "source": [
    "def jaro_distance(str1, str2):\n",
    "    # Length of strings\n",
    "    len_str1 = len(str1)\n",
    "    len_str2 = len(str2)\n",
    "\n",
    "    # Matching distance (maximum number of characters to match)\n",
    "    match_distance = max(len_str1, len_str2) // 2 - 1\n",
    "    if match_distance < 0:\n",
    "        match_distance = 0\n",
    "\n",
    "    # Arrays to store matching characters\n",
    "    str1_matches = [False] * len_str1\n",
    "    str2_matches = [False] * len_str2\n",
    "\n",
    "    # Count of matching characters\n",
    "    matches = 0\n",
    "\n",
    "    # Count of transpositions\n",
    "    transpositions = 0\n",
    "\n",
    "    # Find matching characters\n",
    "    for i in range(len_str1):\n",
    "        start = max(0, i - match_distance)\n",
    "        end = min(i + match_distance + 1, len_str2)\n",
    "\n",
    "        for j in range(start, end):\n",
    "            if not str2_matches[j] and str1[i] == str2[j]:\n",
    "                str1_matches[i] = True\n",
    "                str2_matches[j] = True\n",
    "                matches += 1\n",
    "                break\n",
    "\n",
    "    # If there are no matches, return 0\n",
    "    if matches == 0:\n",
    "        return 0.0\n",
    "\n",
    "    # Count transpositions\n",
    "    k = 0\n",
    "    for i in range(len_str1):\n",
    "        if str1_matches[i]:\n",
    "            while not str2_matches[k]:\n",
    "                k += 1\n",
    "            if str1[i] != str2[k]:\n",
    "                transpositions += 1\n",
    "            k += 1\n",
    "\n",
    "    transpositions //= 2  # Divide by 2 as transpositions were counted twice\n",
    "\n",
    "    # Calculate Jaro distance\n",
    "    similarity = (\n",
    "        matches / len_str1 +\n",
    "        matches / len_str2 +\n",
    "        (matches - transpositions) / matches\n",
    "    ) / 3\n",
    "\n",
    "    return similarity\n",
    "\n",
    "# Example usage:\n",
    "string1 = \"Dwayne\"\n",
    "string2 = \"Duane\"\n",
    "distance = jaro_distance(string1, string2)\n",
    "print(f\"The Jaro distance between '{string1}' and '{string2}' is {distance}.\")\n",
    "\n"
   ]
  },
  {
   "cell_type": "code",
   "execution_count": 6,
   "id": "edadf3e1",
   "metadata": {},
   "outputs": [
    {
     "ename": "SyntaxError",
     "evalue": "invalid non-printable character U+00A0 (793023940.py, line 2)",
     "output_type": "error",
     "traceback": [
      "\u001b[1;36m  Cell \u001b[1;32mIn[6], line 2\u001b[1;36m\u001b[0m\n\u001b[1;33m    # Jaro similarity\u001b[0m\n\u001b[1;37m    ^\u001b[0m\n\u001b[1;31mSyntaxError\u001b[0m\u001b[1;31m:\u001b[0m invalid non-printable character U+00A0\n"
     ]
    }
   ],
   "source": [
    "def jaro_winkler_distance(str1, str2, prefix_scale=0.1):\n",
    "    # Jaro similarity\n",
    "    jaro_similarity = jaro_distance(str1, str2)\n",
    "\n",
    "    # Length of common prefix (up to a maximum of 4 characters)\n",
    "    prefix_length = 0\n",
    "    max_prefix_length = min(4, min(len(str1), len(str2)))\n",
    "    for i in range(max_prefix_length):\n",
    "        if str1[i] == str2[i]:\n",
    "            prefix_length += 1\n",
    "        else:\n",
    "            break\n",
    "\n",
    "    # Calculate Jaro-Winkler distance\n",
    "    jaro_winkler_distance = jaro_similarity + (prefix_length * prefix_scale * (1 - jaro_similarity))\n",
    "\n",
    "    return jaro_winkler_distance\n",
    "\n",
    "# Function for Jaro distance (previous implementation)\n",
    "def jaro_distance(str1, str2):\n",
    "    # ... (Previous Jaro distance code implementation)\n"
   ]
  },
  {
   "cell_type": "code",
   "execution_count": 7,
   "id": "b43d1497",
   "metadata": {},
   "outputs": [
    {
     "ename": "NameError",
     "evalue": "name 'jaro_winkler_distance' is not defined",
     "output_type": "error",
     "traceback": [
      "\u001b[1;31m---------------------------------------------------------------------------\u001b[0m",
      "\u001b[1;31mNameError\u001b[0m                                 Traceback (most recent call last)",
      "Cell \u001b[1;32mIn[7], line 4\u001b[0m\n\u001b[0;32m      2\u001b[0m string1 \u001b[38;5;241m=\u001b[39m \u001b[38;5;124m\"\u001b[39m\u001b[38;5;124mDwayne\u001b[39m\u001b[38;5;124m\"\u001b[39m\n\u001b[0;32m      3\u001b[0m string2 \u001b[38;5;241m=\u001b[39m \u001b[38;5;124m\"\u001b[39m\u001b[38;5;124mDuane\u001b[39m\u001b[38;5;124m\"\u001b[39m\n\u001b[1;32m----> 4\u001b[0m distance \u001b[38;5;241m=\u001b[39m jaro_winkler_distance(string1, string2)\n\u001b[0;32m      5\u001b[0m \u001b[38;5;28mprint\u001b[39m(\u001b[38;5;124mf\u001b[39m\u001b[38;5;124m\"\u001b[39m\u001b[38;5;124mThe Jaro-Winkler distance between \u001b[39m\u001b[38;5;124m'\u001b[39m\u001b[38;5;132;01m{\u001b[39;00mstring1\u001b[38;5;132;01m}\u001b[39;00m\u001b[38;5;124m'\u001b[39m\u001b[38;5;124m and \u001b[39m\u001b[38;5;124m'\u001b[39m\u001b[38;5;132;01m{\u001b[39;00mstring2\u001b[38;5;132;01m}\u001b[39;00m\u001b[38;5;124m'\u001b[39m\u001b[38;5;124m is \u001b[39m\u001b[38;5;132;01m{\u001b[39;00mdistance\u001b[38;5;132;01m}\u001b[39;00m\u001b[38;5;124m.\u001b[39m\u001b[38;5;124m\"\u001b[39m)\n",
      "\u001b[1;31mNameError\u001b[0m: name 'jaro_winkler_distance' is not defined"
     ]
    }
   ],
   "source": [
    "# Example usage:\n",
    "string1 = \"Dwayne\"\n",
    "string2 = \"Duane\"\n",
    "distance = jaro_winkler_distance(string1, string2)\n",
    "print(f\"The Jaro-Winkler distance between '{string1}' and '{string2}' is {distance}.\")\n"
   ]
  },
  {
   "cell_type": "code",
   "execution_count": null,
   "id": "580b305e",
   "metadata": {},
   "outputs": [],
   "source": []
  }
 ],
 "metadata": {
  "kernelspec": {
   "display_name": "Python 3 (ipykernel)",
   "language": "python",
   "name": "python3"
  },
  "language_info": {
   "codemirror_mode": {
    "name": "ipython",
    "version": 3
   },
   "file_extension": ".py",
   "mimetype": "text/x-python",
   "name": "python",
   "nbconvert_exporter": "python",
   "pygments_lexer": "ipython3",
   "version": "3.11.5"
  }
 },
 "nbformat": 4,
 "nbformat_minor": 5
}
