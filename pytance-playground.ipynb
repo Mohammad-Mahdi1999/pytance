{
 "cells": [
  {
   "cell_type": "code",
   "execution_count": 1,
   "id": "4df4c9cf",
   "metadata": {},
   "outputs": [],
   "source": [
    "from src.pytance import CharacterBased\n",
    "from src.pytance import PhoneticSensitive\n",
    "from src.pytance import SequenceBased\n",
    "from src.pytance import TokenBased"
   ]
  },
  {
   "cell_type": "code",
   "execution_count": 1,
   "id": "b8ef9acc",
   "metadata": {
    "scrolled": false
   },
   "outputs": [],
   "source": [
    "from src import pytance as pt\n",
    "\n",
    "\n"
   ]
  },
  {
   "cell_type": "code",
   "execution_count": 2,
   "id": "ad40c24f",
   "metadata": {
    "scrolled": true
   },
   "outputs": [
    {
     "ename": "AttributeError",
     "evalue": "module 'src.pytance' has no attribute 'TokenBased'",
     "output_type": "error",
     "traceback": [
      "\u001b[1;31m---------------------------------------------------------------------------\u001b[0m",
      "\u001b[1;31mAttributeError\u001b[0m                            Traceback (most recent call last)",
      "Cell \u001b[1;32mIn[2], line 1\u001b[0m\n\u001b[1;32m----> 1\u001b[0m pt\u001b[38;5;241m.\u001b[39mTokenBased\u001b[38;5;241m.\u001b[39mQGrams\n",
      "\u001b[1;31mAttributeError\u001b[0m: module 'src.pytance' has no attribute 'TokenBased'"
     ]
    }
   ],
   "source": [
    "pt.TokenBased.QGrams"
   ]
  },
  {
   "cell_type": "code",
   "execution_count": 4,
   "id": "60cc6322",
   "metadata": {},
   "outputs": [
    {
     "name": "stdout",
     "output_type": "stream",
     "text": [
      "Q-Gram Similarity (q=2): 0.16666666666666666\n"
     ]
    }
   ],
   "source": [
    "str1 = \"apple\"\n",
    "str2 = \"apricot\"\n",
    "q = 2\n",
    "result = QGrams.qgram_similarity(str1, str2, q)\n",
    "print(f\"Q-Gram Similarity (q={q}): {result}\")\n"
   ]
  },
  {
   "cell_type": "code",
   "execution_count": 5,
   "id": "dcbd0f6d",
   "metadata": {},
   "outputs": [
    {
     "ename": "ModuleNotFoundError",
     "evalue": "No module named 'pytance'",
     "output_type": "error",
     "traceback": [
      "\u001b[1;31m---------------------------------------------------------------------------\u001b[0m",
      "\u001b[1;31mModuleNotFoundError\u001b[0m                       Traceback (most recent call last)",
      "Cell \u001b[1;32mIn[5], line 1\u001b[0m\n\u001b[1;32m----> 1\u001b[0m \u001b[38;5;28;01mimport\u001b[39;00m \u001b[38;5;21;01mpytance\u001b[39;00m\n",
      "\u001b[1;31mModuleNotFoundError\u001b[0m: No module named 'pytance'"
     ]
    }
   ],
   "source": [
    "import pytance"
   ]
  },
  {
   "cell_type": "code",
   "execution_count": 4,
   "id": "af2096df",
   "metadata": {},
   "outputs": [
    {
     "ename": "SyntaxError",
     "evalue": "invalid syntax (3578188539.py, line 1)",
     "output_type": "error",
     "traceback": [
      "\u001b[1;36m  Cell \u001b[1;32mIn[4], line 1\u001b[1;36m\u001b[0m\n\u001b[1;33m    import .pytance as pt\u001b[0m\n\u001b[1;37m           ^\u001b[0m\n\u001b[1;31mSyntaxError\u001b[0m\u001b[1;31m:\u001b[0m invalid syntax\n"
     ]
    }
   ],
   "source": [
    "import .pytance as pt"
   ]
  },
  {
   "cell_type": "code",
   "execution_count": 8,
   "id": "6be84ab9",
   "metadata": {},
   "outputs": [
    {
     "data": {
      "text/plain": [
       "0.6666666666666666"
      ]
     },
     "execution_count": 8,
     "metadata": {},
     "output_type": "execute_result"
    }
   ],
   "source": [
    "pt.TokenBased.QGrams.qgram_similarity(str1='str1',str2='str2',q=2)"
   ]
  },
  {
   "cell_type": "code",
   "execution_count": 13,
   "id": "ad1dd5b4",
   "metadata": {
    "scrolled": true
   },
   "outputs": [
    {
     "data": {
      "text/plain": [
       "1"
      ]
     },
     "execution_count": 13,
     "metadata": {},
     "output_type": "execute_result"
    }
   ],
   "source": [
    "pt.CharacterBased.dist(\"word1\",\"word2\",'hamming')"
   ]
  },
  {
   "cell_type": "code",
   "execution_count": 6,
   "id": "ac6ff46d",
   "metadata": {},
   "outputs": [
    {
     "data": {
      "text/plain": [
       "True"
      ]
     },
     "execution_count": 6,
     "metadata": {},
     "output_type": "execute_result"
    }
   ],
   "source": [
    "\"TokenBased\" == \"TokenBased\""
   ]
  },
  {
   "cell_type": "code",
   "execution_count": null,
   "id": "bac1a0ca",
   "metadata": {},
   "outputs": [],
   "source": []
  }
 ],
 "metadata": {
  "kernelspec": {
   "display_name": "Python 3 (ipykernel)",
   "language": "python",
   "name": "python3"
  },
  "language_info": {
   "codemirror_mode": {
    "name": "ipython",
    "version": 3
   },
   "file_extension": ".py",
   "mimetype": "text/x-python",
   "name": "python",
   "nbconvert_exporter": "python",
   "pygments_lexer": "ipython3",
   "version": "3.11.5"
  }
 },
 "nbformat": 4,
 "nbformat_minor": 5
}
